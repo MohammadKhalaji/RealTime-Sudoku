{
 "cells": [
  {
   "cell_type": "code",
   "execution_count": 1,
   "metadata": {},
   "outputs": [],
   "source": [
    "import torch\n",
    "import torch.nn as nn\n",
    "import torch.nn.functional as F\n",
    "import torch.optim as optim\n",
    "\n",
    "import torchvision\n",
    "import torchvision.transforms as transforms\n",
    "\n",
    "import matplotlib.pyplot as plt\n",
    "import numpy as np\n",
    "import pandas as pd\n",
    "from sklearn.model_selection import train_test_split\n",
    "\n",
    "\n",
    "from net import Net"
   ]
  },
  {
   "cell_type": "code",
   "execution_count": 2,
   "metadata": {},
   "outputs": [],
   "source": [
    "mu = 0.1307\n",
    "sigma = 0.3081\n",
    "\n",
    "train = pd.read_csv('datasets/mnist_train_modified.csv')\n",
    "test = pd.read_csv('datasets/mnist_test_modified.csv')\n",
    "X_train = train.loc[:,train.columns != \"label\"].values/255   #Normalizing the values\n",
    "X_train = (X_train - mu) / sigma\n",
    "X_train = X_train.reshape(-1, 1, 28, 28)\n",
    "Y_train = train.label.values\n",
    "X_test = test.loc[:,test.columns != \"label\"].values/255   #Normalizing the values\n",
    "X_test = (X_test - mu) / sigma\n",
    "X_test = X_test.reshape(-1, 1, 28, 28)\n",
    "Y_test = test.label.values\n",
    "\n",
    "X_train = torch.from_numpy(X_train)\n",
    "X_test = torch.from_numpy(X_test)\n",
    "Y_train = torch.from_numpy(Y_train)\n",
    "Y_test = torch.from_numpy(Y_test)\n",
    "\n",
    "train_set = torch.utils.data.TensorDataset(X_train, Y_train)\n",
    "test_set = torch.utils.data.TensorDataset(X_test, Y_test)\n",
    "\n",
    "# train_set = torchvision.datasets.MNIST('/datasets/', \n",
    "#                                           train=True, \n",
    "#                                           download=True, \n",
    "#                                           transform=transforms.Compose([transforms.ToTensor(),\n",
    "#                                                                        transforms.Normalize((0.1307,), (0.3081,))]))\n",
    "# test_set = torchvision.datasets.MNIST('/datasets/', \n",
    "#                                          train=False, \n",
    "#                                          download=True, \n",
    "#                                          transform=transforms.Compose([transforms.ToTensor(), \n",
    "#                                                                       transforms.Normalize((0.1307,), (0.3081,))]))"
   ]
  },
  {
   "cell_type": "code",
   "execution_count": 3,
   "metadata": {},
   "outputs": [],
   "source": [
    "test_loader = torch.utils.data.DataLoader(test_set, batch_size=X_test.shape[0], shuffle=True)"
   ]
  },
  {
   "cell_type": "code",
   "execution_count": 4,
   "metadata": {},
   "outputs": [],
   "source": [
    "test_loader = enumerate(test_loader)\n",
    "batch_idx, (X_test, Y_test) = next(test_loader) "
   ]
  },
  {
   "cell_type": "code",
   "execution_count": 5,
   "metadata": {},
   "outputs": [
    {
     "data": {
      "image/png": "[encoded data removed]",
      "text/plain": [
       "<Figure size 432x288 with 16 Axes>"
      ]
     },
     "metadata": {},
     "output_type": "display_data"
    }
   ],
   "source": [
    "fig = plt.figure()\n",
    "\n",
    "for i in range(16):\n",
    "    plt.subplot(4, 4, i + 1)\n",
    "    i += 8900\n",
    "    plt.tight_layout()\n",
    "    plt.title(f'Class: {Y_test[i] + 1}')\n",
    "    plt.imshow(X_test[i][0], cmap='gray')\n",
    "    plt.xticks([])\n",
    "    plt.yticks([])"
   ]
  },
  {
   "cell_type": "code",
   "execution_count": 6,
   "metadata": {},
   "outputs": [],
   "source": [
    "n_epochs = 3\n",
    "lr = 0.001\n",
    "net = Net()\n",
    "net = net.float()\n",
    "optimizer = optim.Adam(net.parameters(), lr=lr)\n",
    "\n",
    "def train(model, train_loader, optimizer, epoch):\n",
    "    model.train()\n",
    "    for batch_idx, (data, target) in enumerate(train_loader):\n",
    "        optimizer.zero_grad()\n",
    "        output = model(data.float())\n",
    "        loss = F.nll_loss(output, target)\n",
    "        loss.backward()\n",
    "        optimizer.step()\n",
    "        if batch_idx % 100 == 0:\n",
    "            print('Train Epoch: {} [{}/{} ({:.0f}%)]\\tLoss: {:.6f}'.format(\n",
    "                epoch, batch_idx * len(data), len(train_loader.dataset),\n",
    "                100. * batch_idx / len(train_loader), loss.item()))\n",
    "            \n",
    "\n",
    "def test(model, test_loader):\n",
    "    model.eval()\n",
    "    test_loss = 0\n",
    "    correct = 0\n",
    "    with torch.no_grad():\n",
    "        for batch_idx, (data, target) in enumerate(test_loader):\n",
    "            output = model(data.float())\n",
    "            test_loss += F.nll_loss(output, target, reduction='sum').item()  # sum up batch loss\n",
    "            pred = output.argmax(dim=1, keepdim=True)  # get the index of the max log-probability\n",
    "            correct += pred.eq(target.view_as(pred)).sum().item()\n",
    "    test_loss /= len(test_loader.dataset)\n",
    "\n",
    "    print('\\nTest set: Average loss: {:.4f}, Accuracy: {}/{} ({:.0f}%)\\n'.format(\n",
    "        test_loss, correct, len(test_loader.dataset),\n",
    "        100. * correct / len(test_loader.dataset)))"
   ]
  },
  {
   "cell_type": "code",
   "execution_count": 7,
   "metadata": {},
   "outputs": [
    {
     "name": "stdout",
     "output_type": "stream",
     "text": [
      "Train Epoch: 1 [0/54666 (0%)]\tLoss: 2.223808\n",
      "Train Epoch: 1 [6400/54666 (12%)]\tLoss: 0.223557\n",
      "Train Epoch: 1 [12800/54666 (23%)]\tLoss: 0.565111\n",
      "Train Epoch: 1 [19200/54666 (35%)]\tLoss: 0.186620\n",
      "Train Epoch: 1 [25600/54666 (47%)]\tLoss: 0.181174\n",
      "Train Epoch: 1 [32000/54666 (58%)]\tLoss: 0.163006\n",
      "Train Epoch: 1 [38400/54666 (70%)]\tLoss: 0.148038\n",
      "Train Epoch: 1 [44800/54666 (82%)]\tLoss: 0.038697\n",
      "Train Epoch: 1 [51200/54666 (94%)]\tLoss: 0.159636\n",
      "\n",
      "Test set: Average loss: 0.0490, Accuracy: 8970/9111 (98%)\n",
      "\n",
      "Train Epoch: 2 [0/54666 (0%)]\tLoss: 0.014213\n",
      "Train Epoch: 2 [6400/54666 (12%)]\tLoss: 0.055411\n",
      "Train Epoch: 2 [12800/54666 (23%)]\tLoss: 0.064170\n",
      "Train Epoch: 2 [19200/54666 (35%)]\tLoss: 0.097541\n",
      "Train Epoch: 2 [25600/54666 (47%)]\tLoss: 0.045213\n",
      "Train Epoch: 2 [32000/54666 (58%)]\tLoss: 0.105843\n",
      "Train Epoch: 2 [38400/54666 (70%)]\tLoss: 0.035131\n",
      "Train Epoch: 2 [44800/54666 (82%)]\tLoss: 0.005350\n",
      "Train Epoch: 2 [51200/54666 (94%)]\tLoss: 0.115267\n",
      "\n",
      "Test set: Average loss: 0.0422, Accuracy: 8990/9111 (99%)\n",
      "\n",
      "Train Epoch: 3 [0/54666 (0%)]\tLoss: 0.048378\n",
      "Train Epoch: 3 [6400/54666 (12%)]\tLoss: 0.113210\n",
      "Train Epoch: 3 [12800/54666 (23%)]\tLoss: 0.031712\n",
      "Train Epoch: 3 [19200/54666 (35%)]\tLoss: 0.022430\n",
      "Train Epoch: 3 [25600/54666 (47%)]\tLoss: 0.090018\n",
      "Train Epoch: 3 [32000/54666 (58%)]\tLoss: 0.051584\n",
      "Train Epoch: 3 [38400/54666 (70%)]\tLoss: 0.035075\n",
      "Train Epoch: 3 [44800/54666 (82%)]\tLoss: 0.036530\n",
      "Train Epoch: 3 [51200/54666 (94%)]\tLoss: 0.039324\n",
      "\n",
      "Test set: Average loss: 0.0409, Accuracy: 8991/9111 (99%)\n",
      "\n"
     ]
    }
   ],
   "source": [
    "train_loader = torch.utils.data.DataLoader(train_set, batch_size=64, shuffle=True)\n",
    "test_loader = torch.utils.data.DataLoader(test_set, batch_size=X_test.shape[0], shuffle=True)\n",
    "\n",
    "for epoch in range(1, n_epochs + 1): \n",
    "    train(net, train_loader, optimizer, epoch)\n",
    "    test(net, test_loader)"
   ]
  },
  {
   "cell_type": "code",
   "execution_count": 8,
   "metadata": {},
   "outputs": [],
   "source": [
    "torch.save(net.state_dict(), \"cnn.pt\")"
   ]
  },
  {
   "cell_type": "code",
   "execution_count": null,
   "metadata": {},
   "outputs": [],
   "source": []
  }
 ],
 "metadata": {
  "kernelspec": {
   "display_name": "Python 3",
   "language": "python",
   "name": "python3"
  },
  "language_info": {
   "codemirror_mode": {
    "name": "ipython",
    "version": 3
   },
   "file_extension": ".py",
   "mimetype": "text/x-python",
   "name": "python",
   "nbconvert_exporter": "python",
   "pygments_lexer": "ipython3",
   "version": "3.7.6"
  }
 },
 "nbformat": 4,
 "nbformat_minor": 4
}
